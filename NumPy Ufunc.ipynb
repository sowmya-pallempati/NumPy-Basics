{
 "cells": [
  {
   "cell_type": "code",
   "execution_count": 1,
   "id": "b84e1ba7",
   "metadata": {},
   "outputs": [],
   "source": [
    "import numpy as np"
   ]
  },
  {
   "cell_type": "code",
   "execution_count": 15,
   "id": "83d0adbe",
   "metadata": {},
   "outputs": [
    {
     "name": "stdout",
     "output_type": "stream",
     "text": [
      "[4 16]\n"
     ]
    }
   ],
   "source": [
    "#creating own ufunc's\n",
    "#define a function and add it to numpy ufunc library using frompyfunc()\n",
    "\n",
    "def mymul(a,b,c):\n",
    "    return a*b*c\n",
    "\n",
    "mymul = np.frompyfunc(mymul,3,1)\n",
    "\n",
    "print(mymul([2,4],[1,1],[2,4]))\n",
    "\n",
    "#print(mul)\n",
    "#print(type(np.mymul))"
   ]
  },
  {
   "cell_type": "code",
   "execution_count": 10,
   "id": "4771b83a",
   "metadata": {},
   "outputs": [
    {
     "name": "stdout",
     "output_type": "stream",
     "text": [
      "[4 16]\n"
     ]
    }
   ],
   "source": [
    "#ufunc provides various functions\n",
    "#arithematic - add, subtract, multiply, divide, power , remainder, mod ...\n",
    "#adding elements in an array element wise using add function\n",
    "\n",
    "\n",
    "a=np.array([2,3,4,5])\n",
    "b=np.array([2,3,4,5])\n",
    "\n",
    "z= np.add(a,b)\n",
    "print(z)\n"
   ]
  },
  {
   "cell_type": "code",
   "execution_count": 14,
   "id": "76ffd8bc",
   "metadata": {},
   "outputs": [
    {
     "name": "stdout",
     "output_type": "stream",
     "text": [
      "[10 24]\n",
      "<class 'numpy.ufunc'>\n"
     ]
    }
   ],
   "source": [
    "print(np.multiply([2,4],[5,6]))\n",
    "print(type(np.multiply))"
   ]
  },
  {
   "cell_type": "code",
   "execution_count": 19,
   "id": "654cca3e",
   "metadata": {},
   "outputs": [
    {
     "name": "stdout",
     "output_type": "stream",
     "text": [
      "[4. 3.]\n"
     ]
    }
   ],
   "source": [
    "#rounding decimals - truncate, round, ceil, floor, fix\n",
    "\n",
    "#truncate fix removes the decimals and returns value closest to zero\n",
    "\n",
    "arr = np.trunc([4.1666, 3.6667])\n",
    "\n",
    "print(arr)"
   ]
  },
  {
   "cell_type": "code",
   "execution_count": null,
   "id": "5bc4e120",
   "metadata": {},
   "outputs": [],
   "source": []
  }
 ],
 "metadata": {
  "kernelspec": {
   "display_name": "Python 3 (ipykernel)",
   "language": "python",
   "name": "python3"
  },
  "language_info": {
   "codemirror_mode": {
    "name": "ipython",
    "version": 3
   },
   "file_extension": ".py",
   "mimetype": "text/x-python",
   "name": "python",
   "nbconvert_exporter": "python",
   "pygments_lexer": "ipython3",
   "version": "3.9.13"
  }
 },
 "nbformat": 4,
 "nbformat_minor": 5
}
