{
 "cells": [
  {
   "cell_type": "code",
   "execution_count": 3,
   "id": "4376efd1",
   "metadata": {},
   "outputs": [],
   "source": [
    "#importing numPy\n",
    "\n",
    "import numpy as np"
   ]
  },
  {
   "cell_type": "code",
   "execution_count": 6,
   "id": "421dfa06",
   "metadata": {},
   "outputs": [
    {
     "name": "stdout",
     "output_type": "stream",
     "text": [
      "[1.  3.4 4.  5. ]\n"
     ]
    }
   ],
   "source": [
    "#creating a numPyarray\n",
    "#same datatype/mutable\n",
    "\n",
    "ar = np.array([1,3,4,5])\n",
    "print(ar)"
   ]
  },
  {
   "cell_type": "code",
   "execution_count": 24,
   "id": "ffd4c435",
   "metadata": {},
   "outputs": [
    {
     "name": "stdout",
     "output_type": "stream",
     "text": [
      "<class 'int'>\n",
      "<class 'numpy.str_'>\n",
      "['sowmya', 2, 3]\n"
     ]
    }
   ],
   "source": [
    "# list supports different data structures\n",
    "list1 = [\"name\", 2, 3]\n",
    "print(type(list1[1]))\n",
    "\n",
    "#But since np.array takes only homogenous datatypes, it converts all the integers to Strings\n",
    "ar1 = np.array(list1)\n",
    "print(type(ar1[1]))\n",
    "\n",
    "#mutable\n",
    "list1[0]=\"sowmya\"\n",
    "print(list1)"
   ]
  },
  {
   "cell_type": "code",
   "execution_count": 8,
   "id": "713e4b73",
   "metadata": {},
   "outputs": [],
   "source": [
    "list1 = [1,2,3,4]#list\n",
    "tuple1 = (1,2,3)#tuple"
   ]
  },
  {
   "cell_type": "code",
   "execution_count": 23,
   "id": "c62b7875",
   "metadata": {},
   "outputs": [
    {
     "name": "stdout",
     "output_type": "stream",
     "text": [
      "(1, 'sowmya', 99.9)\n",
      "['1' 'sowmya' '99.9']\n"
     ]
    },
    {
     "ename": "TypeError",
     "evalue": "'tuple' object does not support item assignment",
     "output_type": "error",
     "traceback": [
      "\u001b[1;31m---------------------------------------------------------------------------\u001b[0m",
      "\u001b[1;31mTypeError\u001b[0m                                 Traceback (most recent call last)",
      "\u001b[1;32m~\\AppData\\Local\\Temp\\ipykernel_36692\\3219811820.py\u001b[0m in \u001b[0;36m<module>\u001b[1;34m\u001b[0m\n\u001b[0;32m      9\u001b[0m \u001b[1;31m#Immutable\u001b[0m\u001b[1;33m\u001b[0m\u001b[1;33m\u001b[0m\u001b[0m\n\u001b[0;32m     10\u001b[0m \u001b[1;33m\u001b[0m\u001b[0m\n\u001b[1;32m---> 11\u001b[1;33m \u001b[0mt1\u001b[0m\u001b[1;33m[\u001b[0m\u001b[1;36m0\u001b[0m\u001b[1;33m]\u001b[0m\u001b[1;33m=\u001b[0m\u001b[1;36m4\u001b[0m\u001b[1;33m\u001b[0m\u001b[1;33m\u001b[0m\u001b[0m\n\u001b[0m\u001b[0;32m     12\u001b[0m \u001b[0mprint\u001b[0m\u001b[1;33m(\u001b[0m\u001b[0mt1\u001b[0m\u001b[1;33m[\u001b[0m\u001b[1;36m0\u001b[0m\u001b[1;33m]\u001b[0m\u001b[1;33m)\u001b[0m\u001b[1;33m\u001b[0m\u001b[1;33m\u001b[0m\u001b[0m\n",
      "\u001b[1;31mTypeError\u001b[0m: 'tuple' object does not support item assignment"
     ]
    }
   ],
   "source": [
    "#tuple supports multiple data types/Immutable\n",
    "\n",
    "t1 = (1,\"sowmya\",99.9)\n",
    "print(t1)\n",
    "\n",
    "tuplearr = np.array(t1)\n",
    "print(tuplearr)\n",
    "\n",
    "#Immutable\n",
    "\n",
    "t1[0]=4\n",
    "print(t1[0]) #error"
   ]
  },
  {
   "cell_type": "code",
   "execution_count": 52,
   "id": "4c50a2df",
   "metadata": {},
   "outputs": [
    {
     "name": "stdout",
     "output_type": "stream",
     "text": [
      "1\n",
      "[1 2 3 4]\n",
      "2\n",
      "[[1 2 3]\n",
      " [4 5 6]]\n",
      "3\n",
      "[[[1 2 3]\n",
      "  [4 5 6]]\n",
      "\n",
      " [[7 8 9]\n",
      "  [0 1 6]]]\n",
      "5\n",
      "[[[[[1 2 3 4]]]]]\n"
     ]
    }
   ],
   "source": [
    "#1D array\n",
    "\n",
    "a = np.array([1,2,3,4])\n",
    "\n",
    "print(a.ndim)\n",
    "print(a)\n",
    "\n",
    "#2D array[1d array as elements]\n",
    "\n",
    "b= np.array([[1,2,3],[4,5,6]])\n",
    "\n",
    "print(b.ndim)\n",
    "print(b)\n",
    "\n",
    "#3D array[2D array as elements]\n",
    "c= np.array([[[1,2,3],[4,5,6]],[[7,8,9],[0,1,6]]])\n",
    "\n",
    "print(c.ndim)\n",
    "print(c)\n",
    "      \n",
    "      \n",
    "arr = np.array([1, 2, 3, 4], ndmin=5)\n",
    "print(arr.ndim)\n",
    "print(arr)\n",
    "\n"
   ]
  },
  {
   "cell_type": "code",
   "execution_count": 56,
   "id": "bfb7e49c",
   "metadata": {},
   "outputs": [
    {
     "name": "stdout",
     "output_type": "stream",
     "text": [
      "4\n",
      "6\n",
      "2\n"
     ]
    }
   ],
   "source": [
    "#Accessing rows\n",
    "#[row,element]\n",
    "b= np.array([[1,2,3],[4,5,6]])\n",
    "\n",
    "print(b[1,0])\n",
    "\n",
    "#3D\n",
    "#[array,row,element]\n",
    "c= np.array([[[1,2,3],[4,5,6]],[[7,8,9],[0,1,6]]])\n",
    "\n",
    "print(c[1,1,2]) #6\n",
    "\n",
    "#negative indexing\n",
    "print(b[0,-2]) #2\n"
   ]
  },
  {
   "cell_type": "code",
   "execution_count": 80,
   "id": "5f7461bb",
   "metadata": {},
   "outputs": [
    {
     "name": "stdout",
     "output_type": "stream",
     "text": [
      "[2 4 1]\n",
      "[3 4 5 1]\n",
      "[5 6]\n",
      "[3 6]\n",
      "[[1 2]\n",
      " [4 5]]\n"
     ]
    }
   ],
   "source": [
    "#slicing the array\n",
    "#[start:end:step]\n",
    "\n",
    "a = np.array([1,2,3,4,5,1,7])\n",
    "print(a[1:6:2])\n",
    "print(a[2:-1])\n",
    "\n",
    "#2D\n",
    "b= np.array([[1,2,3],[4,5,6]])\n",
    "\n",
    "print(b[1, 1:]) #[row,slice elements]\n",
    "\n",
    "print(b[0: , 2]) #[starting row till end, get 2nd element from all rows]\n",
    "\n",
    "cd= b[0:2,0:2:1]\n",
    "print(cd)\n",
    "\n"
   ]
  },
  {
   "cell_type": "code",
   "execution_count": 102,
   "id": "120bfd81",
   "metadata": {},
   "outputs": [
    {
     "name": "stdout",
     "output_type": "stream",
     "text": [
      "['apple' 'banana' 'cherry']\n",
      "<U6\n",
      "[b'apple' b'banana' b'cherry']\n",
      "|S6\n",
      "[1. 2. 3.]\n",
      "float32\n",
      "[0 1 5]\n",
      "int32\n"
     ]
    }
   ],
   "source": [
    "#datatypes\n",
    "\n",
    "sd = np.array(['apple', 'banana', 'cherry'])\n",
    "\n",
    "print(sd)\n",
    "print(sd.dtype)\n",
    "\n",
    "convert = sd.astype('S')\n",
    "print(convert)\n",
    "print(convert.dtype)\n",
    "\n",
    "id= np.array([1,2,3])\n",
    "fl = id.astype('f')\n",
    "print(fl)\n",
    "print(fl.dtype)\n",
    "\n",
    "f= np.array([0.7,1.5,5.7])\n",
    "x= f.astype('i')\n",
    "print(x)\n",
    "print(x.dtype)"
   ]
  },
  {
   "cell_type": "code",
   "execution_count": 110,
   "id": "d90eb823",
   "metadata": {},
   "outputs": [
    {
     "name": "stdout",
     "output_type": "stream",
     "text": [
      "[2 4 5 7]\n",
      "[2 3 5 7]\n",
      "[2 4 5 7]\n",
      "checking base values\n",
      "[2 4 5 7]\n",
      "None\n"
     ]
    }
   ],
   "source": [
    "#copy vs view\n",
    "\n",
    "a1= np.array([2,3,5,7])\n",
    "ca1= a1.copy()  #copies the elements and stores in ca1 array \n",
    "a1[1]= 4\n",
    "\n",
    "print(a1) #replaces value of first element by 4\n",
    "\n",
    "print(ca1) # doesnt replace the modified value \n",
    "va1= a1.view()\n",
    "print(va1)   #replaces the value in both arrays(the original, view array)\n",
    "\n",
    "print(\"checking base values\")\n",
    "print( va1.base) #doesnot own the data\n",
    "print(ca1.base) #owns the data\n"
   ]
  },
  {
   "cell_type": "code",
   "execution_count": 3,
   "id": "4e4e7da9",
   "metadata": {},
   "outputs": [
    {
     "name": "stdout",
     "output_type": "stream",
     "text": [
      "(2, 3)\n",
      "[[1 2 3 4 5 6]]\n",
      "[[1 2]\n",
      " [3 4]\n",
      " [5 6]]\n"
     ]
    }
   ],
   "source": [
    "#shape and reshape of an array\n",
    "\n",
    "b= np.array([[1,2,3],[4,5,6]])\n",
    "print(b.shape)\n",
    "\n",
    "print(b.reshape(1,6))\n",
    "print(b.reshape(3,2))\n",
    "\n",
    "\n",
    "\n",
    "\n"
   ]
  },
  {
   "cell_type": "code",
   "execution_count": 8,
   "id": "f44f5ff2",
   "metadata": {},
   "outputs": [
    {
     "name": "stdout",
     "output_type": "stream",
     "text": [
      "[[ 1  2  3]\n",
      " [ 7  9 10]]\n",
      "[1 2 3] 1\n",
      "[1 2 3] 2\n",
      "[1 2 3] 3\n",
      "[ 7  9 10] 7\n",
      "[ 7  9 10] 9\n",
      "[ 7  9 10] 10\n",
      "[[ 1  2  3]\n",
      " [ 7  9 10]] [1 2 3] 1\n",
      "[[ 1  2  3]\n",
      " [ 7  9 10]] [1 2 3] 2\n",
      "[[ 1  2  3]\n",
      " [ 7  9 10]] [1 2 3] 3\n",
      "[[ 1  2  3]\n",
      " [ 7  9 10]] [ 7  9 10] 7\n",
      "[[ 1  2  3]\n",
      " [ 7  9 10]] [ 7  9 10] 9\n",
      "[[ 1  2  3]\n",
      " [ 7  9 10]] [ 7  9 10] 10\n",
      "[[ 1  2  3]\n",
      " [ 7  9 10]] [1 2 3] 1\n",
      "[[ 1  2  3]\n",
      " [ 7  9 10]] [1 2 3] 2\n",
      "[[ 1  2  3]\n",
      " [ 7  9 10]] [1 2 3] 3\n",
      "[[ 1  2  3]\n",
      " [ 7  9 10]] [ 7  9 10] 7\n",
      "[[ 1  2  3]\n",
      " [ 7  9 10]] [ 7  9 10] 9\n",
      "[[ 1  2  3]\n",
      " [ 7  9 10]] [ 7  9 10] 10\n"
     ]
    }
   ],
   "source": [
    "#iterating arrays\n",
    "\n",
    "ar= np.array([[1,2,3],[7,9,10]])\n",
    "print(ar)\n",
    "for x in ar:\n",
    "    for y in x:\n",
    "        print(x,y)\n",
    "        \n",
    "        \n",
    "ar3= np.array([[[1,2,3],[7,9,10]],[[1,2,3],[7,9,10]]])\n",
    "for x in ar3:\n",
    "    for y in x:\n",
    "        for z in y:\n",
    "         print(x,y,z)\n",
    "    "
   ]
  },
  {
   "cell_type": "code",
   "execution_count": 22,
   "id": "06b65c35",
   "metadata": {},
   "outputs": [
    {
     "name": "stdout",
     "output_type": "stream",
     "text": [
      "1\n",
      "2\n",
      "3\n",
      "7\n",
      "9\n",
      "10\n",
      "1\n",
      "2\n",
      "3\n",
      "7\n",
      "9\n",
      "10\n",
      "int32\n",
      "b'1'\n",
      "b'2'\n",
      "b'3'\n",
      "|S11\n",
      "sliced array\n",
      "2\n",
      "4\n",
      "9\n",
      "11\n"
     ]
    }
   ],
   "source": [
    "#iterating each element using nditer()\n",
    "\n",
    "ar3= np.array([[[1,2,3],[7,9,10]],[[1,2,3],[7,9,10]]])\n",
    "for x in np.nditer(ar3):\n",
    "    print(x)\n",
    "    \n",
    "    \n",
    "#iterating with different datatypes\n",
    "\n",
    "a = np.array([1,2,3])\n",
    "print(a.dtype)\n",
    "\n",
    "#output of the resulting array is string. \n",
    "#buffered creates an extra space for the string output since it doesnt change the dataype of element inplace\n",
    "\n",
    "for x in np.nditer(a, flags=['buffered'], op_dtypes=['S']):\n",
    "    print(x)\n",
    "    \n",
    "print(x.dtype)\n",
    "\n",
    "\n",
    "#iterating with different stepsize\n",
    "\n",
    "b= np.array([[1,2,3,4,5],[7,9,10,11,12]])\n",
    "print(\"sliced array\")\n",
    "for x in np.nditer(b[:,1:9:2]):\n",
    "    print(x)\n",
    "\n",
    "    \n",
    "   \n"
   ]
  },
  {
   "cell_type": "code",
   "execution_count": 26,
   "id": "4eb00b94",
   "metadata": {},
   "outputs": [
    {
     "name": "stdout",
     "output_type": "stream",
     "text": [
      "0 1\n",
      "1 2\n",
      "2 3\n",
      "3 4\n",
      "<class 'int'>\n",
      "<class 'numpy.int32'>\n",
      "(0, 0) 1\n",
      "(0, 1) 2\n",
      "(0, 2) 3\n",
      "(0, 3) 4\n",
      "(1, 0) 5\n",
      "(1, 1) 6\n",
      "(1, 2) 7\n",
      "(1, 3) 8\n",
      "<class 'tuple'>\n",
      "<class 'numpy.int32'>\n"
     ]
    }
   ],
   "source": [
    "#iter gives the list elements without index, enumerate gives elements with index\n",
    "list1 = np.array([1,2,3,4])\n",
    "for idx, num in enumerate(list1):\n",
    "    print(idx, num)\n",
    "print(type(idx))\n",
    "print(type(num))\n",
    "    \n",
    "#using ndenumerate, return indexes is a tuple\n",
    "\n",
    "list1 = np.array([[1,2,3,4],[5,6,7,8]])\n",
    "for idx, num in np.ndenumerate(list1):\n",
    "    print(idx, num)\n",
    "    \n",
    "print(type(idx))\n",
    "print(type(num))\n"
   ]
  },
  {
   "cell_type": "code",
   "execution_count": 37,
   "id": "4eba1213",
   "metadata": {},
   "outputs": [
    {
     "name": "stdout",
     "output_type": "stream",
     "text": [
      "[1 2 3 4 5 6 7 8]\n",
      "[[ 1  2  3  5  6  7]\n",
      " [11 12 13 14 15 16]]\n",
      "resulting array using stack\n",
      "[[1 5]\n",
      " [2 6]\n",
      " [3 7]\n",
      " [4 8]]\n",
      "resulting array using hstack\n",
      "[1 2 3 4 5 6 7 8]\n",
      "resulting array using hstack\n",
      "[[1 2 3 4]\n",
      " [5 6 7 8]]\n"
     ]
    }
   ],
   "source": [
    "#Joining arrays\n",
    "\n",
    "#A. using concatenate\n",
    "\n",
    "a= np.array([1,2,3,4])\n",
    "b= np.array([5,6,7,8])\n",
    "\n",
    "resultingarr = np.concatenate((a,b))\n",
    "print(resultingarr)\n",
    "\n",
    "#joining 2D array along an axis\n",
    "\n",
    "a= np.array([[1,2,3],[11,12,13]])\n",
    "b= np.array([[5,6,7],[14,15,16]])\n",
    "\n",
    "resultingarr = np.concatenate((a,b),axis =1)\n",
    "print(resultingarr)\n",
    "\n",
    "#B. using stack function\n",
    "\n",
    "a= np.array([1,2,3,4])\n",
    "b= np.array([5,6,7,8])\n",
    "\n",
    "print(\"resulting array using stack\")\n",
    "resultingarr = np.stack((a,b),axis = 1)\n",
    "print(resultingarr)\n",
    "\n",
    "#hstack - stacks along rows\n",
    "\n",
    "print(\"resulting array using hstack\")\n",
    "resultingarr = np.hstack((a,b))\n",
    "print(resultingarr)\n",
    "\n",
    "#vstack - stacks along columns\n",
    "\n",
    "print(\"resulting array using hstack\")\n",
    "resultingarr = np.vstack((a,b))\n",
    "print(resultingarr)\n",
    "\n",
    "\n",
    "\n"
   ]
  }
 ],
 "metadata": {
  "kernelspec": {
   "display_name": "Python 3 (ipykernel)",
   "language": "python",
   "name": "python3"
  },
  "language_info": {
   "codemirror_mode": {
    "name": "ipython",
    "version": 3
   },
   "file_extension": ".py",
   "mimetype": "text/x-python",
   "name": "python",
   "nbconvert_exporter": "python",
   "pygments_lexer": "ipython3",
   "version": "3.9.13"
  }
 },
 "nbformat": 4,
 "nbformat_minor": 5
}
