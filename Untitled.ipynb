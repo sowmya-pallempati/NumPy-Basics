{
 "cells": [
  {
   "cell_type": "code",
   "execution_count": 2,
   "id": "16f85a98",
   "metadata": {},
   "outputs": [],
   "source": [
    "#importing numPy\n",
    "\n",
    "import numpy as np"
   ]
  },
  {
   "cell_type": "code",
   "execution_count": 6,
   "id": "3157fa3d",
   "metadata": {},
   "outputs": [
    {
     "name": "stdout",
     "output_type": "stream",
     "text": [
      "[1.  3.4 4.  5. ]\n"
     ]
    }
   ],
   "source": [
    "#creating an numPyarray\n",
    "#same datatype/mutable\n",
    "\n",
    "ar = np.array([1,3,4,5])\n",
    "print(ar)"
   ]
  },
  {
   "cell_type": "code",
   "execution_count": 24,
   "id": "b8ff03e8",
   "metadata": {},
   "outputs": [
    {
     "name": "stdout",
     "output_type": "stream",
     "text": [
      "<class 'int'>\n",
      "<class 'numpy.str_'>\n",
      "['sowmya', 2, 3]\n"
     ]
    }
   ],
   "source": [
    "# list supports different data structures\n",
    "list1 = [\"name\", 2, 3]\n",
    "print(type(list1[1]))\n",
    "\n",
    "#But since np.array takes only homogenous datatypes, it converts all the integers to Strings\n",
    "ar1 = np.array(list1)\n",
    "print(type(ar1[1]))\n",
    "\n",
    "#mutable\n",
    "list1[0]=\"sowmya\"\n",
    "print(list1)"
   ]
  },
  {
   "cell_type": "code",
   "execution_count": 8,
   "id": "916462f9",
   "metadata": {},
   "outputs": [],
   "source": [
    "list1 = [1,2,3,4]#list\n",
    "tuple1 = (1,2,3)#tuple"
   ]
  },
  {
   "cell_type": "code",
   "execution_count": 23,
   "id": "50b0eb9e",
   "metadata": {},
   "outputs": [
    {
     "name": "stdout",
     "output_type": "stream",
     "text": [
      "(1, 'sowmya', 99.9)\n",
      "['1' 'sowmya' '99.9']\n"
     ]
    },
    {
     "ename": "TypeError",
     "evalue": "'tuple' object does not support item assignment",
     "output_type": "error",
     "traceback": [
      "\u001b[1;31m---------------------------------------------------------------------------\u001b[0m",
      "\u001b[1;31mTypeError\u001b[0m                                 Traceback (most recent call last)",
      "\u001b[1;32m~\\AppData\\Local\\Temp\\ipykernel_36692\\3219811820.py\u001b[0m in \u001b[0;36m<module>\u001b[1;34m\u001b[0m\n\u001b[0;32m      9\u001b[0m \u001b[1;31m#Immutable\u001b[0m\u001b[1;33m\u001b[0m\u001b[1;33m\u001b[0m\u001b[0m\n\u001b[0;32m     10\u001b[0m \u001b[1;33m\u001b[0m\u001b[0m\n\u001b[1;32m---> 11\u001b[1;33m \u001b[0mt1\u001b[0m\u001b[1;33m[\u001b[0m\u001b[1;36m0\u001b[0m\u001b[1;33m]\u001b[0m\u001b[1;33m=\u001b[0m\u001b[1;36m4\u001b[0m\u001b[1;33m\u001b[0m\u001b[1;33m\u001b[0m\u001b[0m\n\u001b[0m\u001b[0;32m     12\u001b[0m \u001b[0mprint\u001b[0m\u001b[1;33m(\u001b[0m\u001b[0mt1\u001b[0m\u001b[1;33m[\u001b[0m\u001b[1;36m0\u001b[0m\u001b[1;33m]\u001b[0m\u001b[1;33m)\u001b[0m\u001b[1;33m\u001b[0m\u001b[1;33m\u001b[0m\u001b[0m\n",
      "\u001b[1;31mTypeError\u001b[0m: 'tuple' object does not support item assignment"
     ]
    }
   ],
   "source": [
    "#tuple supports multiple data types/Immutable\n",
    "\n",
    "t1 = (1,\"sowmya\",99.9)\n",
    "print(t1)\n",
    "\n",
    "tuplearr = np.array(t1)\n",
    "print(tuplearr)\n",
    "\n",
    "#Immutable\n",
    "\n",
    "t1[0]=4\n",
    "print(t1[0]) #error"
   ]
  },
  {
   "cell_type": "code",
   "execution_count": 52,
   "id": "c84b3c24",
   "metadata": {},
   "outputs": [
    {
     "name": "stdout",
     "output_type": "stream",
     "text": [
      "1\n",
      "[1 2 3 4]\n",
      "2\n",
      "[[1 2 3]\n",
      " [4 5 6]]\n",
      "3\n",
      "[[[1 2 3]\n",
      "  [4 5 6]]\n",
      "\n",
      " [[7 8 9]\n",
      "  [0 1 6]]]\n",
      "5\n",
      "[[[[[1 2 3 4]]]]]\n"
     ]
    }
   ],
   "source": [
    "#1D array\n",
    "\n",
    "a = np.array([1,2,3,4])\n",
    "\n",
    "print(a.ndim)\n",
    "print(a)\n",
    "\n",
    "#2D array[1d array as elements]\n",
    "\n",
    "b= np.array([[1,2,3],[4,5,6]])\n",
    "\n",
    "print(b.ndim)\n",
    "print(b)\n",
    "\n",
    "#3D array[2D array as elements]\n",
    "c= np.array([[[1,2,3],[4,5,6]],[[7,8,9],[0,1,6]]])\n",
    "\n",
    "print(c.ndim)\n",
    "print(c)\n",
    "      \n",
    "      \n",
    "arr = np.array([1, 2, 3, 4], ndmin=5)\n",
    "print(arr.ndim)\n",
    "print(arr)\n",
    "\n"
   ]
  },
  {
   "cell_type": "code",
   "execution_count": 56,
   "id": "cc976484",
   "metadata": {},
   "outputs": [
    {
     "name": "stdout",
     "output_type": "stream",
     "text": [
      "4\n",
      "6\n",
      "2\n"
     ]
    }
   ],
   "source": [
    "#Accessing rows\n",
    "#[row,element]\n",
    "b= np.array([[1,2,3],[4,5,6]])\n",
    "\n",
    "print(b[1,0])\n",
    "\n",
    "#3D\n",
    "#[array,row,element]\n",
    "c= np.array([[[1,2,3],[4,5,6]],[[7,8,9],[0,1,6]]])\n",
    "\n",
    "print(c[1,1,2]) #6\n",
    "\n",
    "#negative indexing\n",
    "print(b[0,-2]) #2\n"
   ]
  },
  {
   "cell_type": "code",
   "execution_count": 63,
   "id": "65bf0f1d",
   "metadata": {},
   "outputs": [
    {
     "name": "stdout",
     "output_type": "stream",
     "text": [
      "[2 4 1]\n",
      "[3 4 5]\n"
     ]
    }
   ],
   "source": [
    "#slicing the array\n",
    "#[start:end:step]\n",
    "\n",
    "a = np.array([1,2,3,4,5,1,7])\n",
    "print(a[1:6:2])\n",
    "print(a[2:-0:1])"
   ]
  }
 ],
 "metadata": {
  "kernelspec": {
   "display_name": "Python 3 (ipykernel)",
   "language": "python",
   "name": "python3"
  },
  "language_info": {
   "codemirror_mode": {
    "name": "ipython",
    "version": 3
   },
   "file_extension": ".py",
   "mimetype": "text/x-python",
   "name": "python",
   "nbconvert_exporter": "python",
   "pygments_lexer": "ipython3",
   "version": "3.9.13"
  }
 },
 "nbformat": 4,
 "nbformat_minor": 5
}
