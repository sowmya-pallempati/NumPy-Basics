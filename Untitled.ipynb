{
 "cells": [
  {
   "cell_type": "code",
   "execution_count": 2,
   "id": "230efd68",
   "metadata": {},
   "outputs": [],
   "source": [
    "import numpy as np"
   ]
  },
  {
   "cell_type": "code",
   "execution_count": 4,
   "id": "cbbec3ee",
   "metadata": {},
   "outputs": [],
   "source": [
    "#Generating Random numbers\n",
    "\n",
    "import random"
   ]
  },
  {
   "cell_type": "code",
   "execution_count": 5,
   "id": "b7d5b936",
   "metadata": {},
   "outputs": [
    {
     "name": "stdout",
     "output_type": "stream",
     "text": [
      "18\n",
      "7\n",
      "9\n"
     ]
    }
   ],
   "source": [
    "\n",
    "#int functions\n",
    "\n",
    "x= random.randint(10,20)\n",
    "print(x)\n",
    "\n",
    "print(random.randrange(10))\n",
    "\n",
    "#with stepsize=2\n",
    "print(random.randrange(5,10,2))"
   ]
  },
  {
   "cell_type": "code",
   "execution_count": 41,
   "id": "eeb02868",
   "metadata": {},
   "outputs": [
    {
     "name": "stdout",
     "output_type": "stream",
     "text": [
      "0.20572246632006363\n"
     ]
    }
   ],
   "source": [
    "#float numbers\n",
    "#since we didnt mention any range , the output will be in between 0-1 \n",
    "print(random.random())"
   ]
  },
  {
   "cell_type": "code",
   "execution_count": null,
   "id": "0e9d39e3",
   "metadata": {},
   "outputs": [],
   "source": []
  }
 ],
 "metadata": {
  "kernelspec": {
   "display_name": "Python 3 (ipykernel)",
   "language": "python",
   "name": "python3"
  },
  "language_info": {
   "codemirror_mode": {
    "name": "ipython",
    "version": 3
   },
   "file_extension": ".py",
   "mimetype": "text/x-python",
   "name": "python",
   "nbconvert_exporter": "python",
   "pygments_lexer": "ipython3",
   "version": "3.9.13"
  }
 },
 "nbformat": 4,
 "nbformat_minor": 5
}
